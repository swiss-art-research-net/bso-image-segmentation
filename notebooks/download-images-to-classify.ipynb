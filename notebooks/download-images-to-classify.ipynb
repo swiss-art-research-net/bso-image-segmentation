{
 "cells": [
  {
   "cell_type": "code",
   "execution_count": 1,
   "metadata": {},
   "outputs": [],
   "source": [
    "import csv\n",
    "import json\n",
    "import requests\n",
    "import time\n",
    "from os.path import join\n",
    "from random import shuffle\n",
    "from pathlib import Path"
   ]
  },
  {
   "cell_type": "markdown",
   "metadata": {},
   "source": [
    "Path to CSV file (download from https://github.com/swiss-art-research-net/bso-vikus-viewer-data/blob/main/data/images.csv)"
   ]
  },
  {
   "cell_type": "code",
   "execution_count": 2,
   "metadata": {},
   "outputs": [],
   "source": [
    "imageCSV = '../data/images.csv'"
   ]
  },
  {
   "cell_type": "markdown",
   "metadata": {},
   "source": [
    "For testing purposes, download only examples"
   ]
  },
  {
   "cell_type": "code",
   "execution_count": 3,
   "metadata": {},
   "outputs": [],
   "source": [
    "limit = 10\n",
    "randomise = True"
   ]
  },
  {
   "cell_type": "markdown",
   "metadata": {},
   "source": [
    "Directory to download images into"
   ]
  },
  {
   "cell_type": "code",
   "execution_count": 4,
   "metadata": {},
   "outputs": [],
   "source": [
    "fileDir = '../data/images/'"
   ]
  },
  {
   "cell_type": "markdown",
   "metadata": {},
   "source": [
    "Download images"
   ]
  },
  {
   "cell_type": "code",
   "execution_count": 5,
   "metadata": {},
   "outputs": [],
   "source": [
    "data = []\n",
    "with open(imageCSV, 'r') as f:\n",
    "    reader = csv.DictReader(f)\n",
    "    for row in reader:\n",
    "        data.append(row)"
   ]
  },
  {
   "cell_type": "code",
   "execution_count": 6,
   "metadata": {},
   "outputs": [],
   "source": [
    "if randomise:\n",
    "    shuffle(data)\n",
    "if limit:\n",
    "    data = data[:limit]"
   ]
  },
  {
   "cell_type": "code",
   "execution_count": 7,
   "metadata": {},
   "outputs": [],
   "source": [
    "maxRetries = 5\n",
    "Path(fileDir).mkdir(parents=True, exist_ok=True)\n",
    "for row in data:\n",
    "    filename = row['id'] + '.jpg'\n",
    "    outputFile = join(fileDir, filename)\n",
    "    url = row['image']\n",
    "    r = requests.get(url, allow_redirects=True)\n",
    "    retries = 1\n",
    "    while not 'image' in r.headers['Content-Type'] and retries <= maxRetries:\n",
    "        # Try again if no image comes back\n",
    "        time.sleep(1)\n",
    "        r = requests.get(url, allow_redirects=True)\n",
    "        retries += 1\n",
    "\n",
    "    if retries >= maxRetries:\n",
    "        print(\"Could not download\", id, url)\n",
    "    else:\n",
    "        with open(outputFile, 'wb') as f:\n",
    "            f.write(r.content)"
   ]
  },
  {
   "cell_type": "code",
   "execution_count": null,
   "metadata": {},
   "outputs": [],
   "source": []
  }
 ],
 "metadata": {
  "kernelspec": {
   "display_name": "Python 3",
   "language": "python",
   "name": "python3"
  },
  "language_info": {
   "codemirror_mode": {
    "name": "ipython",
    "version": 3
   },
   "file_extension": ".py",
   "mimetype": "text/x-python",
   "name": "python",
   "nbconvert_exporter": "python",
   "pygments_lexer": "ipython3",
   "version": "3.7.3"
  }
 },
 "nbformat": 4,
 "nbformat_minor": 2
}
