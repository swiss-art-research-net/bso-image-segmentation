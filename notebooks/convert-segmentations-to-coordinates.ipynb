{
 "cells": [
  {
   "cell_type": "code",
   "execution_count": 1,
   "metadata": {},
   "outputs": [],
   "source": [
    "import csv\n",
    "import json\n",
    "import urllib.request\n",
    "import uuid\n",
    "from datetime import datetime\n",
    "from os.path import join\n",
    "from pathlib import Path\n",
    "from PIL import Image\n",
    "from string import Template\n",
    "from tqdm import tqdm"
   ]
  },
  {
   "cell_type": "code",
   "execution_count": 2,
   "metadata": {},
   "outputs": [],
   "source": [
    "imageCSV = '../data/images.csv'\n",
    "predictionsCSV = '../output/pages.txt'\n",
    "outputDirectory = '../output/rdf/'"
   ]
  },
  {
   "cell_type": "code",
   "execution_count": 3,
   "metadata": {},
   "outputs": [],
   "source": [
    "images = []\n",
    "with open(imageCSV, 'r') as f:\n",
    "    reader = csv.DictReader(f)\n",
    "    for row in reader:\n",
    "        images.append(row)"
   ]
  },
  {
   "cell_type": "code",
   "execution_count": 4,
   "metadata": {},
   "outputs": [],
   "source": [
    "predictions = []\n",
    "with open(predictionsCSV, 'r') as f:\n",
    "    reader = csv.reader(f)\n",
    "    for row in reader:\n",
    "        xCoords = [int(row[1]), int(row[3]), int(row[5]), int(row[7])]\n",
    "        yCoords = [int(row[2]), int(row[4]), int(row[6]), int(row[8])]\n",
    "        predictions.append({\n",
    "            \"image\": row[0],\n",
    "            \"topLeft\": (min(xCoords), min(yCoords)),\n",
    "            \"topRight\": (max(xCoords), min(yCoords)),\n",
    "            \"bottomRight\": (max(xCoords), max(yCoords)),\n",
    "            \"bottomLeft\": (min(xCoords), max(yCoords))\n",
    "        })\n"
   ]
  },
  {
   "cell_type": "code",
   "execution_count": 5,
   "metadata": {},
   "outputs": [
    {
     "name": "stderr",
     "output_type": "stream",
     "text": [
      "100%|██████████| 26733/26733 [00:14<00:00, 1784.88it/s]\n"
     ]
    }
   ],
   "source": [
    "for p in tqdm(predictions):\n",
    "    image = Image.open(join('..', p['image']))\n",
    "    p['imageSize'] = image.size"
   ]
  },
  {
   "cell_type": "code",
   "execution_count": 6,
   "metadata": {},
   "outputs": [],
   "source": [
    "for p in predictions:\n",
    "    size = p['imageSize']\n",
    "    p['pct'] = \"pct:%.1f,%.1f,%.1f,%.1f\" % (\n",
    "        p['topLeft'][0] / size[0] * 100, \n",
    "        p['topLeft'][1] / size[1] * 100, \n",
    "        (p['bottomRight'][0] - p['topLeft'][0]) / size[0] * 100, \n",
    "        (p['bottomRight'][1] - p['topLeft'][1]) / size[1] * 100)"
   ]
  },
  {
   "cell_type": "code",
   "execution_count": 7,
   "metadata": {},
   "outputs": [],
   "source": [
    "for image in images:\n",
    "    if 'nb-' in image['id']:\n",
    "        image['iiif'] = \"https://bso-iiif.swissartresearch.net/iiif/2/\" + image['id']\n",
    "    else:\n",
    "        image['iiif'] = image['image'].split('/full/')[0]"
   ]
  },
  {
   "cell_type": "code",
   "execution_count": 8,
   "metadata": {},
   "outputs": [],
   "source": [
    "imagesById = {}\n",
    "for image in images:\n",
    "    imagesById[image['id']] = image"
   ]
  },
  {
   "cell_type": "code",
   "execution_count": 9,
   "metadata": {},
   "outputs": [],
   "source": [
    "for p in predictions:\n",
    "    imageId = p['image'].split('/images/')[1].split('.jpg')[0]\n",
    "    try:\n",
    "        p['imageData'] = dict(imagesById[imageId])\n",
    "    except:\n",
    "        print(\"Could not find\",imageId)"
   ]
  },
  {
   "cell_type": "code",
   "execution_count": 12,
   "metadata": {
    "scrolled": true
   },
   "outputs": [],
   "source": [
    "#predictions[:10]\n",
    "#selection = [d for d in predictions if '1717326' in d['imageData']['iiif']]"
   ]
  },
  {
   "cell_type": "code",
   "execution_count": null,
   "metadata": {},
   "outputs": [
    {
     "name": "stderr",
     "output_type": "stream",
     "text": [
      "  0%|          | 5/26733 [00:02<3:12:41,  2.31it/s]"
     ]
    }
   ],
   "source": [
    "for p in tqdm(predictions):\n",
    "    uri = p['imageData']['iiif']\n",
    "    try:\n",
    "        with urllib.request.urlopen(uri) as url:\n",
    "            data = json.loads(url.read().decode())\n",
    "    except:\n",
    "        print(\"Could not open\", uri)\n",
    "        next\n",
    "    p['originalSize'] = (data['width'], data['height']) "
   ]
  },
  {
   "cell_type": "code",
   "execution_count": null,
   "metadata": {},
   "outputs": [],
   "source": [
    "regionTemplate = Template('''\n",
    "@prefix Platform: <http://www.metaphacts.com/ontologies/platform#> .\n",
    "@prefix User: <http://www.metaphacts.com/resource/user/> .\n",
    "@prefix xsd: <http://www.w3.org/2001/XMLSchema#> .\n",
    "@prefix crmdig: <http://www.ics.forth.gr/isl/CRMdig/> .\n",
    "@prefix rso: <http://www.researchspace.org/ontology/> .\n",
    "@prefix prov: <http://www.w3.org/ns/prov#> .\n",
    "@prefix rdf: <http://www.w3.org/1999/02/22-rdf-syntax-ns#> .\n",
    "@prefix ldp: <http://www.w3.org/ns/ldp#> .\n",
    "@prefix crm: <http://www.cidoc-crm.org/cidoc-crm/>.\n",
    "\n",
    "\n",
    "<$uri/container/context> {\n",
    "  Platform:formContainer ldp:contains <$uri/container> .\n",
    "  \n",
    "  <$uri>\n",
    "    a crmdig:D35_Area, rso:EX_Digital_Image_Region;\n",
    "    crm:P2_has_type <https://resource.swissartresearch.net/type/documentRegion> ;\n",
    "    crmdig:L49_is_primary_area_of <$iiifImage>;\n",
    "    rso:boundingBox \"xywh=$x,$y,$w,$h\";\n",
    "    rso:displayLabel \"image\";\n",
    "    rso:viewport \"xywh=0,0,0,0\";\n",
    "    rdf:value \"<svg xmlns='http://www.w3.org/2000/svg'><path xmlns=\\\\\"http://www.w3.org/2000/svg\\\\\" d=\\\\\"M${x0},${y0}L${x1},${y0}L${x1},${y1}L${x0},${y1}z\\\\\" data-paper-data=\\\\\"{&quot;defaultStrokeValue&quot;:1,&quot;editStrokeValue&quot;:5,&quot;currentStrokeValue&quot;:1,&quot;rotation&quot;:0,&quot;deleteIcon&quot;:null,&quot;rotationIcon&quot;:null,&quot;group&quot;:null,&quot;editable&quot;:true,&quot;annotation&quot;:null}\\\\\" id=\\\\\"rectangle_e880ad36-1fef-4ce3-835d-716ba7db628a\\\\\" fill-opacity=\\\\\"0\\\\\" fill=\\\\\"#00bfff\\\\\" fill-rule=\\\\\"nonzero\\\\\" stroke=\\\\\"#00bfff\\\\\" stroke-width=\\\\\"4.04992\\\\\" stroke-linecap=\\\\\"butt\\\\\" stroke-linejoin=\\\\\"miter\\\\\" stroke-miterlimit=\\\\\"10\\\\\" stroke-dasharray=\\\\\"\\\\\" stroke-dashoffset=\\\\\"0\\\\\" font-family=\\\\\"none\\\\\" font-weight=\\\\\"none\\\\\" font-size=\\\\\"none\\\\\" text-anchor=\\\\\"none\\\\\" style=\\\\\"mix-blend-mode: normal\\\\\"/></svg>\" .\n",
    "  \n",
    "  <$uri/container>\n",
    "    a ldp:Resource, prov:Entity;\n",
    "    prov:generatedAtTime \"$dateTime\"^^xsd:dateTime;\n",
    "    prov:wasAttributedTo User:admin .\n",
    "}\n",
    "''')"
   ]
  },
  {
   "cell_type": "code",
   "execution_count": null,
   "metadata": {},
   "outputs": [],
   "source": [
    "dateTime = datetime.now().strftime(\"%Y-%m-%dT%H:%M:%Sz\")\n",
    "for p in tqdm(predictions):\n",
    "    iiifImage = p['imageData']['iiif']\n",
    "    identifier = str(uuid.uuid3(uuid.NAMESPACE_DNS, iiifImage))\n",
    "    uri = \"https://resource.swissartresearch.net/digitalobject/\" + identifier\n",
    "    x0 = p['topLeft'][0] / p['imageSize'][0] * p['originalSize'][0]\n",
    "    y0 = p['topLeft'][1] / p['imageSize'][1] * p['originalSize'][1]\n",
    "    x1 = p['bottomRight'][0] / p['imageSize'][0] * p['originalSize'][0]\n",
    "    y1 = p['bottomRight'][1] / p['imageSize'][1] * p['originalSize'][1]\n",
    "    x = x0\n",
    "    y = y0\n",
    "    w = x1 - x0\n",
    "    h = y1 - y0\n",
    "    output = regionTemplate.substitute(\n",
    "        uri=uri,\n",
    "        iiifImage=iiifImage,\n",
    "        x=int(x),\n",
    "        y=int(y),\n",
    "        w=int(w),\n",
    "        h=int(h),\n",
    "        x0=x0,\n",
    "        y0=y0,\n",
    "        x1=x1,\n",
    "        y1=y1,\n",
    "        dateTime=dateTime\n",
    "    )\n",
    "    filename = join(outputDirectory, identifier + \".trig\")\n",
    "    with open(filename, 'w') as f:\n",
    "        f.write(output)"
   ]
  },
  {
   "cell_type": "code",
   "execution_count": null,
   "metadata": {},
   "outputs": [],
   "source": []
  }
 ],
 "metadata": {
  "kernelspec": {
   "display_name": "Python 3",
   "language": "python",
   "name": "python3"
  },
  "language_info": {
   "codemirror_mode": {
    "name": "ipython",
    "version": 3
   },
   "file_extension": ".py",
   "mimetype": "text/x-python",
   "name": "python",
   "nbconvert_exporter": "python",
   "pygments_lexer": "ipython3",
   "version": "3.7.3"
  }
 },
 "nbformat": 4,
 "nbformat_minor": 2
}
