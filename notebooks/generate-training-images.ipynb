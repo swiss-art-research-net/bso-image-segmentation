{
 "cells": [
  {
   "cell_type": "code",
   "execution_count": 1,
   "metadata": {},
   "outputs": [],
   "source": [
    "import cv2\n",
    "import json\n",
    "import math\n",
    "import numpy as np\n",
    "from os.path import join\n",
    "from matplotlib import pyplot as plt"
   ]
  },
  {
   "cell_type": "markdown",
   "metadata": {},
   "source": [
    "Path to JSON file containing classifications, created with [RunwayML](https://runwayml.com/)"
   ]
  },
  {
   "cell_type": "code",
   "execution_count": 2,
   "metadata": {},
   "outputs": [],
   "source": [
    "inputFile = '../training/Annotation Group - Images and Colour Bars for BSO Examples.json'"
   ]
  },
  {
   "cell_type": "markdown",
   "metadata": {},
   "source": [
    "Directory of original images"
   ]
  },
  {
   "cell_type": "code",
   "execution_count": 3,
   "metadata": {},
   "outputs": [],
   "source": [
    "fileDir = '../training/data/images/'"
   ]
  },
  {
   "cell_type": "markdown",
   "metadata": {},
   "source": [
    "Directory to store training images"
   ]
  },
  {
   "cell_type": "code",
   "execution_count": 4,
   "metadata": {},
   "outputs": [],
   "source": [
    "outputDir = '../training/data/labels/'"
   ]
  },
  {
   "cell_type": "markdown",
   "metadata": {},
   "source": [
    "Load classifications"
   ]
  },
  {
   "cell_type": "code",
   "execution_count": 5,
   "metadata": {},
   "outputs": [],
   "source": [
    "with open(inputFile, 'r') as f:\n",
    "    data = json.load(f)"
   ]
  },
  {
   "cell_type": "markdown",
   "metadata": {},
   "source": [
    "Define colours for categories"
   ]
  },
  {
   "cell_type": "code",
   "execution_count": 6,
   "metadata": {},
   "outputs": [],
   "source": [
    "colours = [(0,0,255),\n",
    "          (0,255,0),\n",
    "          (255,0,0),\n",
    "          (0,255,255),\n",
    "          (255,255,0),\n",
    "          (255,0,255)]\n",
    "categoryColours = {}\n",
    "for i, category in enumerate(data['categories']):\n",
    "    categoryColours[category['id']] = colours[i]"
   ]
  },
  {
   "cell_type": "markdown",
   "metadata": {},
   "source": [
    "Define order to draw categories"
   ]
  },
  {
   "cell_type": "code",
   "execution_count": 7,
   "metadata": {},
   "outputs": [],
   "source": [
    "categoryOrder = ['Document', 'Colour Bar', 'Image']"
   ]
  },
  {
   "cell_type": "code",
   "execution_count": 8,
   "metadata": {},
   "outputs": [],
   "source": [
    "categoryIdOrder = [[c['id'] for c in data['categories'] if c['name'] == d][0] for d in categoryOrder]"
   ]
  },
  {
   "cell_type": "markdown",
   "metadata": {},
   "source": [
    "Draw and save training images"
   ]
  },
  {
   "cell_type": "code",
   "execution_count": 9,
   "metadata": {},
   "outputs": [],
   "source": [
    "files = data['files']\n",
    "for file in files.keys():\n",
    "    filePath = join(fileDir, file)\n",
    "    inputImage = cv2.imread(filePath)\n",
    "    outputImage = np.zeros(inputImage.shape, np.uint8)\n",
    "    for annotation in sorted(files[file], key=lambda x: categoryIdOrder.index(x['categoryId'])):\n",
    "        if annotation['type'] == 'BOUNDING_BOX':\n",
    "            # Fix coordinates of bounding box (seem to be misinterpreteds)\n",
    "            topLeftX = math.floor(annotation['boundingBox'][0] * inputImage.shape[1])\n",
    "            topLeftY = math.floor(annotation['boundingBox'][1] * inputImage.shape[0])\n",
    "            bottomRightX = math.ceil(annotation['boundingBox'][2] * inputImage.shape[1])\n",
    "            bottomRightY = math.ceil(annotation['boundingBox'][3] * inputImage.shape[0])\n",
    "            outputImage = cv2.rectangle(outputImage, (topLeftX, topLeftY), (bottomRightX, bottomRightY), categoryColours[annotation['categoryId']], -1)\n",
    "            outputFilePath = join(outputDir, file)\n",
    "            cv2.imwrite(outputFilePath, outputImage)\n"
   ]
  }
 ],
 "metadata": {
  "kernelspec": {
   "display_name": "Python 3",
   "language": "python",
   "name": "python3"
  },
  "language_info": {
   "codemirror_mode": {
    "name": "ipython",
    "version": 3
   },
   "file_extension": ".py",
   "mimetype": "text/x-python",
   "name": "python",
   "nbconvert_exporter": "python",
   "pygments_lexer": "ipython3",
   "version": "3.7.3"
  }
 },
 "nbformat": 4,
 "nbformat_minor": 2
}
