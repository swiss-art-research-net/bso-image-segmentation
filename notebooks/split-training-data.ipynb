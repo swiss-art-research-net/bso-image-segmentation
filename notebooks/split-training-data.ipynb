{
 "cells": [
  {
   "cell_type": "code",
   "execution_count": 51,
   "metadata": {},
   "outputs": [],
   "source": [
    "from math import floor\n",
    "from random import shuffle\n",
    "from os import listdir\n",
    "from os.path import join\n",
    "from shutil import move"
   ]
  },
  {
   "cell_type": "markdown",
   "metadata": {},
   "source": [
    "Define input and output folder, and split ratio"
   ]
  },
  {
   "cell_type": "code",
   "execution_count": 52,
   "metadata": {},
   "outputs": [],
   "source": [
    "inputDir = '../training/data'\n",
    "outputDir = '../training/val'\n",
    "ratio = .2"
   ]
  },
  {
   "cell_type": "code",
   "execution_count": 53,
   "metadata": {},
   "outputs": [],
   "source": [
    "images = [f for f in listdir(join(inputDir, 'images')) if f.endswith('.jpg')]\n",
    "shuffle(images)"
   ]
  },
  {
   "cell_type": "markdown",
   "metadata": {},
   "source": [
    "Move images"
   ]
  },
  {
   "cell_type": "code",
   "execution_count": 54,
   "metadata": {},
   "outputs": [],
   "source": [
    "for imageToMove in images[:floor(len(images) * ratio)]:\n",
    "    imageFrom = join(inputDir,'images',imageToMove)\n",
    "    labelFrom = join(inputDir,'labels',imageToMove)\n",
    "    imageTo = join(outputDir,'images',imageToMove)\n",
    "    labelTo = join(outputDir,'labels',imageToMove)\n",
    "    move(imageFrom, imageTo)\n",
    "    move(labelFrom, labelTo)"
   ]
  },
  {
   "cell_type": "markdown",
   "metadata": {},
   "source": [
    "Move images back if required"
   ]
  },
  {
   "cell_type": "code",
   "execution_count": 48,
   "metadata": {},
   "outputs": [],
   "source": [
    "imagesToMoveBack = [f for f in listdir(join(outputDir, 'images')) if f.endswith('.jpg')]"
   ]
  },
  {
   "cell_type": "code",
   "execution_count": 50,
   "metadata": {},
   "outputs": [],
   "source": [
    "for imageToMoveBack in imagesToMoveBack:\n",
    "    imageFrom = join(outputDir,'images',imageToMoveBack)\n",
    "    labelFrom = join(outputDir,'labels',imageToMoveBack)\n",
    "    imageTo = join(inputDir,'images',imageToMoveBack)\n",
    "    labelTo = join(inputDir,'labels',imageToMoveBack)\n",
    "    move(imageFrom, imageTo)\n",
    "    move(labelFrom, labelTo)"
   ]
  },
  {
   "cell_type": "code",
   "execution_count": null,
   "metadata": {},
   "outputs": [],
   "source": []
  }
 ],
 "metadata": {
  "kernelspec": {
   "display_name": "Python 3",
   "language": "python",
   "name": "python3"
  },
  "language_info": {
   "codemirror_mode": {
    "name": "ipython",
    "version": 3
   },
   "file_extension": ".py",
   "mimetype": "text/x-python",
   "name": "python",
   "nbconvert_exporter": "python",
   "pygments_lexer": "ipython3",
   "version": "3.7.3"
  }
 },
 "nbformat": 4,
 "nbformat_minor": 2
}
