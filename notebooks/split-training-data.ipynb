{
 "cells": [
  {
   "cell_type": "code",
   "execution_count": 1,
   "metadata": {},
   "outputs": [],
   "source": [
    "from math import floor\n",
    "from random import shuffle\n",
    "from os import listdir\n",
    "from os.path import join\n",
    "from shutil import move\n",
    "from pathlib import Path"
   ]
  },
  {
   "cell_type": "markdown",
   "metadata": {},
   "source": [
    "Define input and output folder, and split ratio"
   ]
  },
  {
   "cell_type": "code",
   "execution_count": 2,
   "metadata": {},
   "outputs": [],
   "source": [
    "inputDir = '../training/data'\n",
    "outputDir = '../training/val'\n",
    "ratio = .2"
   ]
  },
  {
   "cell_type": "code",
   "execution_count": 3,
   "metadata": {},
   "outputs": [],
   "source": [
    "images = [f for f in listdir(join(inputDir, 'images')) if f.endswith('.jpg')]\n",
    "shuffle(images)"
   ]
  },
  {
   "cell_type": "markdown",
   "metadata": {},
   "source": [
    "Move images"
   ]
  },
  {
   "cell_type": "code",
   "execution_count": 4,
   "metadata": {},
   "outputs": [],
   "source": [
    "Path(outputDir + '/labels').mkdir(parents=True, exist_ok=True)\n",
    "Path(outputDir + '/images').mkdir(parents=True, exist_ok=True)"
   ]
  },
  {
   "cell_type": "code",
   "execution_count": 5,
   "metadata": {},
   "outputs": [],
   "source": [
    "for imageToMove in images[:floor(len(images) * ratio)]:\n",
    "    imageFrom = join(inputDir,'images',imageToMove)\n",
    "    labelFrom = join(inputDir,'labels',imageToMove)\n",
    "    imageTo = join(outputDir,'images',imageToMove)\n",
    "    labelTo = join(outputDir,'labels',imageToMove)\n",
    "    move(imageFrom, imageTo)\n",
    "    move(labelFrom, labelTo)"
   ]
  },
  {
   "cell_type": "markdown",
   "metadata": {},
   "source": [
    "Move images back if required"
   ]
  },
  {
   "cell_type": "code",
   "execution_count": 6,
   "metadata": {},
   "outputs": [],
   "source": [
    "#imagesToMoveBack = [f for f in listdir(join(outputDir, 'images')) if f.endswith('.jpg')]"
   ]
  },
  {
   "cell_type": "code",
   "execution_count": 7,
   "metadata": {},
   "outputs": [],
   "source": [
    "#for imageToMoveBack in imagesToMoveBack:\n",
    "#    imageFrom = join(outputDir,'images',imageToMoveBack)\n",
    "#    labelFrom = join(outputDir,'labels',imageToMoveBack)\n",
    "#    imageTo = join(inputDir,'images',imageToMoveBack)\n",
    "#    labelTo = join(inputDir,'labels',imageToMoveBack)\n",
    "#    move(imageFrom, imageTo)\n",
    "#    move(labelFrom, labelTo)"
   ]
  },
  {
   "cell_type": "code",
   "execution_count": null,
   "metadata": {},
   "outputs": [],
   "source": []
  }
 ],
 "metadata": {
  "kernelspec": {
   "display_name": "Python 3",
   "language": "python",
   "name": "python3"
  },
  "language_info": {
   "codemirror_mode": {
    "name": "ipython",
    "version": 3
   },
   "file_extension": ".py",
   "mimetype": "text/x-python",
   "name": "python",
   "nbconvert_exporter": "python",
   "pygments_lexer": "ipython3",
   "version": "3.7.3"
  }
 },
 "nbformat": 4,
 "nbformat_minor": 2
}
