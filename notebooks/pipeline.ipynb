{
 "cells": [
  {
   "cell_type": "code",
   "execution_count": 13,
   "metadata": {},
   "outputs": [],
   "source": [
    "import csv\n",
    "import json\n",
    "import urllib.request\n",
    "import requests\n",
    "import uuid\n",
    "import time\n",
    "import yaml\n",
    "from os import path\n",
    "from pathlib import Path\n",
    "from string import Template\n",
    "from SPARQLWrapper import SPARQLWrapper, JSON\n",
    "from datetime import datetime\n",
    "from tqdm import tqdm"
   ]
  },
  {
   "cell_type": "code",
   "execution_count": 2,
   "metadata": {},
   "outputs": [],
   "source": [
    "configFile = '../pipeline/config.yml'"
   ]
  },
  {
   "cell_type": "markdown",
   "metadata": {},
   "source": [
    "### Load Configuration"
   ]
  },
  {
   "cell_type": "code",
   "execution_count": 3,
   "metadata": {},
   "outputs": [],
   "source": [
    "try:\n",
    "    with open(configFile, 'r') as f:\n",
    "        config = yaml.safe_load(f)\n",
    "except:\n",
    "    raise Exception(\"Could not load config file at\", configFile)"
   ]
  },
  {
   "cell_type": "markdown",
   "metadata": {},
   "source": [
    "### Define helpers"
   ]
  },
  {
   "cell_type": "code",
   "execution_count": 4,
   "metadata": {},
   "outputs": [],
   "source": [
    "# Constants\n",
    "SPARQL = 0\n",
    "CSV = 1\n",
    "\n",
    "def sparqlResultToDict(results):\n",
    "    rows = []\n",
    "    for result in results[\"results\"][\"bindings\"]:\n",
    "        row = {}\n",
    "        for key in results[\"head\"][\"vars\"]:\n",
    "            if key in result:\n",
    "                row[key] = result[key][\"value\"]\n",
    "            else:\n",
    "                row[key] = None\n",
    "        rows.append(row)\n",
    "    return rows\n",
    "\n",
    "def writeData(data):\n",
    "    try:\n",
    "        with open(config['dataFile'], 'w') as f:\n",
    "            writer = csv.DictWriter(f, fieldnames=['id','image','width','height','documentCoordinates'])\n",
    "            writer.writeheader()\n",
    "            for row in data:\n",
    "                if not 'documentCoordinates' in row:\n",
    "                    row['documentCoordinates'] = None\n",
    "                writer.writerow(row)\n",
    "    except:\n",
    "        raise Exception(\"Could not write to\", config['dataFile'])"
   ]
  },
  {
   "cell_type": "markdown",
   "metadata": {},
   "source": [
    "## Step 1: Get input data"
   ]
  },
  {
   "cell_type": "code",
   "execution_count": 5,
   "metadata": {},
   "outputs": [],
   "source": [
    "mode = False\n",
    "if config['mode'] == \"SPARQL\":\n",
    "    mode = SPARQL\n",
    "elif config['mode'] == \"CSV\":\n",
    "    mode  = CSV\n",
    "else:\n",
    "    raise Exception(\"mode not specified or invalid (should be SPARQL or CSV)\")"
   ]
  },
  {
   "cell_type": "markdown",
   "metadata": {},
   "source": [
    "Read data from input file, if present. This is being done for both CSV and SPARQL mode as the SPARQL results will be cashed in the CSV file and updated when data is changed."
   ]
  },
  {
   "cell_type": "code",
   "execution_count": 6,
   "metadata": {},
   "outputs": [],
   "source": [
    "inputData = []\n",
    "try:\n",
    "    with open(config['dataFile'], 'r') as f:\n",
    "        reader = csv.DictReader(f)\n",
    "        for row in reader:\n",
    "            inputData.append({\n",
    "                \"id\": row['id'],\n",
    "                \"image\": row['image'],\n",
    "                \"width\": row['width'],\n",
    "                \"height\": row['height'],\n",
    "                \"documentCoordinates\": row['documentCoordinates'] if 'documentCoordinates' in row else None\n",
    "            })\n",
    "except:\n",
    "    print(\"No prior input file found\")\n"
   ]
  },
  {
   "cell_type": "markdown",
   "metadata": {},
   "source": [
    "If in SPARQL mode, get data from SPARQL endpoint"
   ]
  },
  {
   "cell_type": "code",
   "execution_count": 7,
   "metadata": {},
   "outputs": [],
   "source": [
    "if mode == SPARQL:\n",
    "    if not config['endpoint'] or not config['query']:\n",
    "        raise Exception(\"incomplete configuration for SPARQL mode\")\n",
    "        \n",
    "    sparql = SPARQLWrapper(config['endpoint'], returnFormat=JSON)\n",
    "    sparql.setQuery(config['query'])\n",
    "    try:\n",
    "        ret = sparql.query().convert()\n",
    "    except:\n",
    "        raise Exception(\"Could not execute query against endpoint\", config['endpoint'])\n",
    "    queriedData = sparqlResultToDict(ret)"
   ]
  },
  {
   "cell_type": "markdown",
   "metadata": {},
   "source": [
    "If in SPARQL mode, merge queried data with data stored in CSV file.\n",
    "- add entries that exist in SPARQL result, but not in the CSV file\n",
    "- add width/height information when it is only available in either the CSV file or the SPARQL output (prioritising the SPARQL data)\n",
    "Store merged data in CSV file"
   ]
  },
  {
   "cell_type": "code",
   "execution_count": 8,
   "metadata": {},
   "outputs": [],
   "source": [
    "data = inputData\n",
    "\n",
    "if mode == SPARQL:\n",
    "    inputDataHash = {}\n",
    "    queriedDataHash = {}\n",
    "\n",
    "    for row in inputData:\n",
    "        inputDataHash[row['id']] = row\n",
    "    for row in queriedData:\n",
    "        queriedDataHash[row['id']] = row\n",
    "\n",
    "    idsInInputData = [d['id'] for d in inputData]\n",
    "    for row in queriedData:\n",
    "        if row['id'] not in idsInInputData:\n",
    "            data.append(row)\n",
    "\n",
    "    for row in data:\n",
    "        if not row['width']:\n",
    "            if row['id'] in queriedDataHash and queriedDataHash[row['id']]['width']:\n",
    "                row['width'] = queriedDataHash[row['id']]['width']\n",
    "            elif row['id'] in inputDataHash and inputDataHash[row['id']]['width']:\n",
    "                row['width'] = inputDataHash[row['id']]['width']\n",
    "        if not row['height']:\n",
    "            if row['id'] in queriedDataHash and queriedDataHash[row['id']]['height']:\n",
    "                row['height'] = queriedDataHash[row['id']]['height']\n",
    "            elif row['id'] in inputDataHash and inputDataHash[row['id']]['width']:\n",
    "                row['height'] = inputDataHash[row['id']]['height']\n",
    "    \n",
    "    writeData(data)"
   ]
  },
  {
   "cell_type": "markdown",
   "metadata": {},
   "source": [
    "## Step 2: Get (missing) image sizes"
   ]
  },
  {
   "cell_type": "markdown",
   "metadata": {},
   "source": [
    "If the original image size is not specified, call the IIIF Image API to read the size from the JSON rsponse"
   ]
  },
  {
   "cell_type": "code",
   "execution_count": 9,
   "metadata": {},
   "outputs": [
    {
     "name": "stderr",
     "output_type": "stream",
     "text": [
      " 55%|█████▌    | 15126/27450 [00:00<00:00, 151218.32it/s]"
     ]
    },
    {
     "name": "stdout",
     "output_type": "stream",
     "text": [
      "Could not open https://bso-iiif.swissartresearch.net/iiif/2/nb-1000691/info.json\n"
     ]
    },
    {
     "name": "stderr",
     "output_type": "stream",
     "text": [
      " 71%|███████   | 19452/27450 [03:04<07:14, 18.39it/s]    "
     ]
    },
    {
     "name": "stdout",
     "output_type": "stream",
     "text": [
      "Could not open https://bso-iiif.swissartresearch.net/iiif/2/nb-1098612/info.json\n"
     ]
    },
    {
     "name": "stderr",
     "output_type": "stream",
     "text": [
      " 72%|███████▏  | 19809/27450 [04:50<20:13,  6.29it/s]"
     ]
    },
    {
     "name": "stdout",
     "output_type": "stream",
     "text": [
      "Could not open https://bso-iiif.swissartresearch.net/iiif/2/nb-1344065/info.json\n"
     ]
    },
    {
     "name": "stderr",
     "output_type": "stream",
     "text": [
      " 73%|███████▎  | 19937/27450 [06:10<42:15,  2.96it/s]"
     ]
    },
    {
     "name": "stdout",
     "output_type": "stream",
     "text": [
      "Could not open https://bso-iiif.swissartresearch.net/iiif/2/nb-1344568/info.json\n",
      "Could not open https://bso-iiif.swissartresearch.net/iiif/2/nb-162210/info.json\n",
      "Could not open https://bso-iiif.swissartresearch.net/iiif/2/nb-162781/info.json\n",
      "Could not open https://bso-iiif.swissartresearch.net/iiif/2/nb-162857/info.json\n"
     ]
    },
    {
     "name": "stderr",
     "output_type": "stream",
     "text": [
      " 74%|███████▍  | 20323/27450 [07:57<32:14,  3.68it/s]"
     ]
    },
    {
     "name": "stdout",
     "output_type": "stream",
     "text": [
      "Could not open https://bso-iiif.swissartresearch.net/iiif/2/nb-477148/info.json\n",
      "Could not open https://bso-iiif.swissartresearch.net/iiif/2/nb-477149/info.json\n",
      "Could not open https://bso-iiif.swissartresearch.net/iiif/2/nb-477150/info.json\n",
      "Could not open https://bso-iiif.swissartresearch.net/iiif/2/nb-477151/info.json\n",
      "Could not open https://bso-iiif.swissartresearch.net/iiif/2/nb-477152/info.json\n",
      "Could not open https://bso-iiif.swissartresearch.net/iiif/2/nb-477153/info.json\n",
      "Could not open https://bso-iiif.swissartresearch.net/iiif/2/nb-477154/info.json\n",
      "Could not open https://bso-iiif.swissartresearch.net/iiif/2/nb-477155/info.json\n",
      "Could not open https://bso-iiif.swissartresearch.net/iiif/2/nb-477156/info.json\n",
      "Could not open https://bso-iiif.swissartresearch.net/iiif/2/nb-477157/info.json\n",
      "Could not open https://bso-iiif.swissartresearch.net/iiif/2/nb-477158/info.json\n",
      "Could not open https://bso-iiif.swissartresearch.net/iiif/2/nb-477159/info.json\n",
      "Could not open https://bso-iiif.swissartresearch.net/iiif/2/nb-477160/info.json\n",
      "Could not open https://bso-iiif.swissartresearch.net/iiif/2/nb-477161/info.json\n",
      "Could not open https://bso-iiif.swissartresearch.net/iiif/2/nb-477162/info.json\n",
      "Could not open https://bso-iiif.swissartresearch.net/iiif/2/nb-477163/info.json\n",
      "Could not open https://bso-iiif.swissartresearch.net/iiif/2/nb-477164/info.json\n",
      "Could not open https://bso-iiif.swissartresearch.net/iiif/2/nb-477165/info.json\n",
      "Could not open https://bso-iiif.swissartresearch.net/iiif/2/nb-477167/info.json\n",
      "Could not open https://bso-iiif.swissartresearch.net/iiif/2/nb-477168/info.json\n",
      "Could not open https://bso-iiif.swissartresearch.net/iiif/2/nb-477169/info.json\n",
      "Could not open https://bso-iiif.swissartresearch.net/iiif/2/nb-477170/info.json\n",
      "Could not open https://bso-iiif.swissartresearch.net/iiif/2/nb-477171/info.json\n",
      "Could not open https://bso-iiif.swissartresearch.net/iiif/2/nb-477172/info.json\n",
      "Could not open https://bso-iiif.swissartresearch.net/iiif/2/nb-477173/info.json\n"
     ]
    },
    {
     "name": "stderr",
     "output_type": "stream",
     "text": [
      "\r",
      " 74%|███████▍  | 20415/27450 [08:06<23:21,  5.02it/s]"
     ]
    },
    {
     "name": "stdout",
     "output_type": "stream",
     "text": [
      "Could not open https://bso-iiif.swissartresearch.net/iiif/2/nb-477174/info.json\n",
      "Could not open https://bso-iiif.swissartresearch.net/iiif/2/nb-477175/info.json\n",
      "Could not open https://bso-iiif.swissartresearch.net/iiif/2/nb-477176/info.json\n",
      "Could not open https://bso-iiif.swissartresearch.net/iiif/2/nb-477177/info.json\n",
      "Could not open https://bso-iiif.swissartresearch.net/iiif/2/nb-477178/info.json\n",
      "Could not open https://bso-iiif.swissartresearch.net/iiif/2/nb-477179/info.json\n",
      "Could not open https://bso-iiif.swissartresearch.net/iiif/2/nb-477180/info.json\n",
      "Could not open https://bso-iiif.swissartresearch.net/iiif/2/nb-477181/info.json\n"
     ]
    },
    {
     "name": "stderr",
     "output_type": "stream",
     "text": [
      " 80%|███████▉  | 21930/27450 [17:29<09:02, 10.18it/s]   "
     ]
    },
    {
     "name": "stdout",
     "output_type": "stream",
     "text": [
      "Could not open https://bso-iiif.swissartresearch.net/iiif/2/nb-479323/info.json\n",
      "Could not open https://bso-iiif.swissartresearch.net/iiif/2/nb-479324/info.json\n"
     ]
    },
    {
     "name": "stderr",
     "output_type": "stream",
     "text": [
      " 87%|████████▋ | 23786/27450 [29:42<06:03, 10.08it/s]   "
     ]
    },
    {
     "name": "stdout",
     "output_type": "stream",
     "text": [
      "Could not open https://bso-iiif.swissartresearch.net/iiif/2/nb-481966/info.json\n"
     ]
    },
    {
     "name": "stderr",
     "output_type": "stream",
     "text": [
      " 88%|████████▊ | 24291/27450 [32:49<05:11, 10.13it/s]   "
     ]
    },
    {
     "name": "stdout",
     "output_type": "stream",
     "text": [
      "Could not open https://bso-iiif.swissartresearch.net/iiif/2/nb-802241/info.json\n"
     ]
    },
    {
     "name": "stderr",
     "output_type": "stream",
     "text": [
      " 89%|████████▉ | 24515/27450 [34:23<05:26,  9.00it/s]   "
     ]
    },
    {
     "name": "stdout",
     "output_type": "stream",
     "text": [
      "Could not open https://bso-iiif.swissartresearch.net/iiif/2/nb-812808/info.json\n"
     ]
    },
    {
     "name": "stderr",
     "output_type": "stream",
     "text": [
      " 90%|█████████ | 24739/27450 [35:55<04:56,  9.15it/s]   "
     ]
    },
    {
     "name": "stdout",
     "output_type": "stream",
     "text": [
      "Could not open https://bso-iiif.swissartresearch.net/iiif/2/nb-815037/info.json\n"
     ]
    },
    {
     "name": "stderr",
     "output_type": "stream",
     "text": [
      " 90%|█████████ | 24745/27450 [35:56<05:20,  8.45it/s]"
     ]
    },
    {
     "name": "stdout",
     "output_type": "stream",
     "text": [
      "Could not open https://bso-iiif.swissartresearch.net/iiif/2/nb-815050/info.json\n"
     ]
    },
    {
     "name": "stderr",
     "output_type": "stream",
     "text": [
      " 90%|█████████ | 24748/27450 [35:56<04:56,  9.12it/s]"
     ]
    },
    {
     "name": "stdout",
     "output_type": "stream",
     "text": [
      "Could not open https://bso-iiif.swissartresearch.net/iiif/2/nb-815054/info.json\n"
     ]
    },
    {
     "name": "stderr",
     "output_type": "stream",
     "text": [
      " 90%|█████████ | 24750/27450 [35:56<04:46,  9.41it/s]"
     ]
    },
    {
     "name": "stdout",
     "output_type": "stream",
     "text": [
      "Could not open https://bso-iiif.swissartresearch.net/iiif/2/nb-815062/info.json\n"
     ]
    },
    {
     "name": "stderr",
     "output_type": "stream",
     "text": [
      " 90%|█████████ | 24762/27450 [35:58<04:40,  9.60it/s]"
     ]
    },
    {
     "name": "stdout",
     "output_type": "stream",
     "text": [
      "Could not open https://bso-iiif.swissartresearch.net/iiif/2/nb-815093/info.json\n",
      "Could not open https://bso-iiif.swissartresearch.net/iiif/2/nb-815097/info.json\n"
     ]
    },
    {
     "name": "stderr",
     "output_type": "stream",
     "text": [
      " 90%|█████████ | 24767/27450 [35:58<04:31,  9.87it/s]"
     ]
    },
    {
     "name": "stdout",
     "output_type": "stream",
     "text": [
      "Could not open https://bso-iiif.swissartresearch.net/iiif/2/nb-815102/info.json\n"
     ]
    },
    {
     "name": "stderr",
     "output_type": "stream",
     "text": [
      " 90%|█████████ | 24775/27450 [35:59<04:31,  9.85it/s]"
     ]
    },
    {
     "name": "stdout",
     "output_type": "stream",
     "text": [
      "Could not open https://bso-iiif.swissartresearch.net/iiif/2/nb-815125/info.json\n"
     ]
    },
    {
     "name": "stderr",
     "output_type": "stream",
     "text": [
      " 90%|█████████ | 24834/27450 [36:05<04:29,  9.70it/s]"
     ]
    },
    {
     "name": "stdout",
     "output_type": "stream",
     "text": [
      "Could not open https://bso-iiif.swissartresearch.net/iiif/2/nb-815670/info.json\n"
     ]
    },
    {
     "name": "stderr",
     "output_type": "stream",
     "text": [
      " 93%|█████████▎| 25397/27450 [39:24<03:25, 10.01it/s]   "
     ]
    },
    {
     "name": "stdout",
     "output_type": "stream",
     "text": [
      "Could not open https://bso-iiif.swissartresearch.net/iiif/2/nb-822350/info.json\n"
     ]
    },
    {
     "name": "stderr",
     "output_type": "stream",
     "text": [
      " 93%|█████████▎| 25439/27450 [40:35<6:06:42, 10.94s/it] "
     ]
    },
    {
     "name": "stdout",
     "output_type": "stream",
     "text": [
      "Could not open https://bso-iiif.swissartresearch.net/iiif/2/nb-824913/info.json\n"
     ]
    },
    {
     "name": "stderr",
     "output_type": "stream",
     "text": [
      " 94%|█████████▍| 25742/27450 [42:14<02:48, 10.14it/s]  "
     ]
    },
    {
     "name": "stdout",
     "output_type": "stream",
     "text": [
      "Could not open https://bso-iiif.swissartresearch.net/iiif/2/nb-838092/info.json\n"
     ]
    },
    {
     "name": "stderr",
     "output_type": "stream",
     "text": [
      " 94%|█████████▍| 25756/27450 [42:15<02:48, 10.06it/s]"
     ]
    },
    {
     "name": "stdout",
     "output_type": "stream",
     "text": [
      "Could not open https://bso-iiif.swissartresearch.net/iiif/2/nb-838152/info.json\n",
      "Could not open https://bso-iiif.swissartresearch.net/iiif/2/nb-838155/info.json\n",
      "Could not open https://bso-iiif.swissartresearch.net/iiif/2/nb-838157/info.json\n"
     ]
    },
    {
     "name": "stderr",
     "output_type": "stream",
     "text": [
      " 94%|█████████▍| 25760/27450 [42:16<02:43, 10.36it/s]"
     ]
    },
    {
     "name": "stdout",
     "output_type": "stream",
     "text": [
      "Could not open https://bso-iiif.swissartresearch.net/iiif/2/nb-838160/info.json\n",
      "Could not open https://bso-iiif.swissartresearch.net/iiif/2/nb-838162/info.json\n",
      "Could not open https://bso-iiif.swissartresearch.net/iiif/2/nb-838164/info.json\n"
     ]
    },
    {
     "name": "stderr",
     "output_type": "stream",
     "text": [
      "\r",
      " 94%|█████████▍| 25762/27450 [42:16<02:41, 10.45it/s]"
     ]
    },
    {
     "name": "stdout",
     "output_type": "stream",
     "text": [
      "Could not open https://bso-iiif.swissartresearch.net/iiif/2/nb-838166/info.json\n",
      "Could not open https://bso-iiif.swissartresearch.net/iiif/2/nb-838168/info.json\n",
      "Could not open https://bso-iiif.swissartresearch.net/iiif/2/nb-838170/info.json\n"
     ]
    },
    {
     "name": "stderr",
     "output_type": "stream",
     "text": [
      "\r",
      " 94%|█████████▍| 25764/27450 [42:17<04:39,  6.04it/s]"
     ]
    },
    {
     "name": "stdout",
     "output_type": "stream",
     "text": [
      "Could not open https://bso-iiif.swissartresearch.net/iiif/2/nb-838172/info.json\n"
     ]
    },
    {
     "name": "stderr",
     "output_type": "stream",
     "text": [
      "\r",
      " 94%|█████████▍| 25765/27450 [42:17<05:14,  5.37it/s]"
     ]
    },
    {
     "name": "stdout",
     "output_type": "stream",
     "text": [
      "Could not open https://bso-iiif.swissartresearch.net/iiif/2/nb-838174/info.json\n"
     ]
    },
    {
     "name": "stderr",
     "output_type": "stream",
     "text": [
      "\r",
      " 94%|█████████▍| 25766/27450 [42:17<05:22,  5.22it/s]"
     ]
    },
    {
     "name": "stdout",
     "output_type": "stream",
     "text": [
      "Could not open https://bso-iiif.swissartresearch.net/iiif/2/nb-838176/info.json\n"
     ]
    },
    {
     "name": "stderr",
     "output_type": "stream",
     "text": [
      "\r",
      " 94%|█████████▍| 25767/27450 [42:17<05:49,  4.82it/s]"
     ]
    },
    {
     "name": "stdout",
     "output_type": "stream",
     "text": [
      "Could not open https://bso-iiif.swissartresearch.net/iiif/2/nb-838178/info.json\n"
     ]
    },
    {
     "name": "stderr",
     "output_type": "stream",
     "text": [
      "\r",
      " 94%|█████████▍| 25768/27450 [42:18<05:47,  4.83it/s]"
     ]
    },
    {
     "name": "stdout",
     "output_type": "stream",
     "text": [
      "Could not open https://bso-iiif.swissartresearch.net/iiif/2/nb-838180/info.json\n"
     ]
    },
    {
     "name": "stderr",
     "output_type": "stream",
     "text": [
      "\r",
      " 94%|█████████▍| 25769/27450 [42:18<06:42,  4.17it/s]"
     ]
    },
    {
     "name": "stdout",
     "output_type": "stream",
     "text": [
      "Could not open https://bso-iiif.swissartresearch.net/iiif/2/nb-838182/info.json\n"
     ]
    },
    {
     "name": "stderr",
     "output_type": "stream",
     "text": [
      " 94%|█████████▍| 25881/27450 [42:31<02:46,  9.40it/s]"
     ]
    },
    {
     "name": "stdout",
     "output_type": "stream",
     "text": [
      "Could not open https://bso-iiif.swissartresearch.net/iiif/2/nb-841831/info.json\n"
     ]
    },
    {
     "name": "stderr",
     "output_type": "stream",
     "text": [
      " 94%|█████████▍| 25888/27450 [42:32<02:42,  9.62it/s]"
     ]
    },
    {
     "name": "stdout",
     "output_type": "stream",
     "text": [
      "Could not open https://bso-iiif.swissartresearch.net/iiif/2/nb-841890/info.json\n"
     ]
    },
    {
     "name": "stderr",
     "output_type": "stream",
     "text": [
      " 95%|█████████▍| 25960/27450 [43:46<07:46,  3.19it/s]  "
     ]
    },
    {
     "name": "stdout",
     "output_type": "stream",
     "text": [
      "Could not open https://bso-iiif.swissartresearch.net/iiif/2/nb-861242/info.json\n"
     ]
    },
    {
     "name": "stderr",
     "output_type": "stream",
     "text": [
      " 95%|█████████▍| 26035/27450 [43:54<02:58,  7.91it/s]"
     ]
    },
    {
     "name": "stdout",
     "output_type": "stream",
     "text": [
      "Could not open https://bso-iiif.swissartresearch.net/iiif/2/nb-870419/info.json\n",
      "Could not open https://bso-iiif.swissartresearch.net/iiif/2/nb-870422/info.json\n"
     ]
    },
    {
     "name": "stderr",
     "output_type": "stream",
     "text": [
      " 96%|█████████▋| 26423/27450 [46:50<2:35:58,  9.11s/it]"
     ]
    },
    {
     "name": "stdout",
     "output_type": "stream",
     "text": [
      "Could not open https://bso-iiif.swissartresearch.net/iiif/2/nb-912863/info.json\n"
     ]
    },
    {
     "name": "stderr",
     "output_type": "stream",
     "text": [
      " 97%|█████████▋| 26539/27450 [47:01<01:30, 10.05it/s]  "
     ]
    },
    {
     "name": "stdout",
     "output_type": "stream",
     "text": [
      "Could not open https://bso-iiif.swissartresearch.net/iiif/2/nb-919765/info.json\n"
     ]
    },
    {
     "name": "stderr",
     "output_type": "stream",
     "text": [
      " 97%|█████████▋| 26704/27450 [48:27<03:24,  3.64it/s]  "
     ]
    },
    {
     "name": "stdout",
     "output_type": "stream",
     "text": [
      "Could not open https://bso-iiif.swissartresearch.net/iiif/2/nb-932814/info.json\n"
     ]
    },
    {
     "name": "stderr",
     "output_type": "stream",
     "text": [
      " 99%|█████████▉| 27142/27450 [50:19<00:31,  9.64it/s]  "
     ]
    },
    {
     "name": "stdout",
     "output_type": "stream",
     "text": [
      "Could not open https://bso-iiif.swissartresearch.net/iiif/2/nb-960111/info.json\n"
     ]
    },
    {
     "name": "stderr",
     "output_type": "stream",
     "text": [
      "100%|██████████| 27450/27450 [52:04<00:00,  8.79it/s]  \n"
     ]
    }
   ],
   "source": [
    "for row in tqdm(data):\n",
    "    if not row['width'] or not row['height']:\n",
    "        uri = row['image'] + '/info.json'\n",
    "        try:\n",
    "            with urllib.request.urlopen(uri) as url:\n",
    "                manifestData = json.loads(url.read().decode())\n",
    "                \n",
    "        except:\n",
    "            print(\"Could not open\", uri)\n",
    "            next\n",
    "        row['width'] = manifestData['width']\n",
    "        row['height'] = manifestData['height']"
   ]
  },
  {
   "cell_type": "markdown",
   "metadata": {},
   "source": [
    "Write data to file"
   ]
  },
  {
   "cell_type": "code",
   "execution_count": 10,
   "metadata": {},
   "outputs": [],
   "source": [
    "writeData(data)"
   ]
  },
  {
   "cell_type": "markdown",
   "metadata": {},
   "source": [
    "## Step 3: Download images"
   ]
  },
  {
   "cell_type": "markdown",
   "metadata": {},
   "source": [
    "Download the images that do not yet exist in the image folder. The images will be downloaded resized to a width of 1024 pixels."
   ]
  },
  {
   "cell_type": "code",
   "execution_count": 11,
   "metadata": {},
   "outputs": [],
   "source": [
    "try:\n",
    "    Path(config['imageDirectory']).mkdir(parents=True, exist_ok=True)\n",
    "except:\n",
    "    raise Exception(\"Could not add/access folder\", config['imageDirectory'])"
   ]
  },
  {
   "cell_type": "code",
   "execution_count": 15,
   "metadata": {},
   "outputs": [
    {
     "name": "stderr",
     "output_type": "stream",
     "text": [
      " 68%|██████▊   | 18557/27450 [00:00<00:00, 97513.30it/s]"
     ]
    },
    {
     "name": "stdout",
     "output_type": "stream",
     "text": [
      "Could not download nb-1000691\n",
      "Could not download nb-1098612\n"
     ]
    },
    {
     "name": "stderr",
     "output_type": "stream",
     "text": [
      " 73%|███████▎  | 19926/27450 [00:19<00:11, 669.54it/s]  "
     ]
    },
    {
     "name": "stdout",
     "output_type": "stream",
     "text": [
      "Could not download nb-1344065\n"
     ]
    },
    {
     "name": "stderr",
     "output_type": "stream",
     "text": [
      "\r",
      " 73%|███████▎  | 19934/27450 [00:26<00:16, 448.28it/s]"
     ]
    },
    {
     "name": "stdout",
     "output_type": "stream",
     "text": [
      "Could not download nb-1344568\n",
      "Could not download nb-162210\n"
     ]
    },
    {
     "name": "stderr",
     "output_type": "stream",
     "text": [
      " 73%|███████▎  | 20050/27450 [00:39<00:31, 234.97it/s]"
     ]
    },
    {
     "name": "stdout",
     "output_type": "stream",
     "text": [
      "Could not download nb-162781\n"
     ]
    },
    {
     "name": "stderr",
     "output_type": "stream",
     "text": [
      "\r",
      " 73%|███████▎  | 20067/27450 [00:46<00:42, 173.93it/s]"
     ]
    },
    {
     "name": "stdout",
     "output_type": "stream",
     "text": [
      "Could not download nb-162857\n",
      "Could not download nb-477148\n"
     ]
    },
    {
     "name": "stderr",
     "output_type": "stream",
     "text": [
      " 74%|███████▍  | 20389/27450 [01:03<01:12, 97.85it/s] "
     ]
    },
    {
     "name": "stdout",
     "output_type": "stream",
     "text": [
      "Could not download nb-477149\n",
      "Could not download nb-477150\n"
     ]
    },
    {
     "name": "stderr",
     "output_type": "stream",
     "text": [
      "\r",
      " 74%|███████▍  | 20391/27450 [01:17<01:50, 63.85it/s]"
     ]
    },
    {
     "name": "stdout",
     "output_type": "stream",
     "text": [
      "Could not download nb-477151\n"
     ]
    },
    {
     "name": "stderr",
     "output_type": "stream",
     "text": [
      "\r",
      " 74%|███████▍  | 20392/27450 [01:24<02:18, 51.08it/s]"
     ]
    },
    {
     "name": "stdout",
     "output_type": "stream",
     "text": [
      "Could not download nb-477152\n",
      "Could not download nb-477153\n",
      "Could not download nb-477154\n"
     ]
    },
    {
     "name": "stderr",
     "output_type": "stream",
     "text": [
      " 74%|███████▍  | 20395/27450 [01:44<04:15, 27.62it/s]"
     ]
    },
    {
     "name": "stdout",
     "output_type": "stream",
     "text": [
      "Could not download nb-477155\n"
     ]
    },
    {
     "name": "stderr",
     "output_type": "stream",
     "text": [
      "\r",
      " 74%|███████▍  | 20396/27450 [01:51<05:11, 22.66it/s]"
     ]
    },
    {
     "name": "stdout",
     "output_type": "stream",
     "text": [
      "Could not download nb-477156\n",
      "Could not download nb-477157\n",
      "Could not download nb-477158\n"
     ]
    },
    {
     "name": "stderr",
     "output_type": "stream",
     "text": [
      " 74%|███████▍  | 20399/27450 [02:11<09:08, 12.86it/s]"
     ]
    },
    {
     "name": "stdout",
     "output_type": "stream",
     "text": [
      "Could not download nb-477159\n"
     ]
    },
    {
     "name": "stderr",
     "output_type": "stream",
     "text": [
      "\r",
      " 74%|███████▍  | 20400/27450 [02:17<10:59, 10.68it/s]"
     ]
    },
    {
     "name": "stdout",
     "output_type": "stream",
     "text": [
      "Could not download nb-477160\n",
      "Could not download nb-477161\n"
     ]
    },
    {
     "name": "stderr",
     "output_type": "stream",
     "text": [
      " 74%|███████▍  | 20402/27450 [02:31<16:17,  7.21it/s]"
     ]
    },
    {
     "name": "stdout",
     "output_type": "stream",
     "text": [
      "Could not download nb-477162\n"
     ]
    },
    {
     "name": "stderr",
     "output_type": "stream",
     "text": [
      "\r",
      " 74%|███████▍  | 20403/27450 [02:38<20:01,  5.86it/s]"
     ]
    },
    {
     "name": "stdout",
     "output_type": "stream",
     "text": [
      "Could not download nb-477163\n",
      "Could not download nb-477164\n"
     ]
    },
    {
     "name": "stderr",
     "output_type": "stream",
     "text": [
      " 74%|███████▍  | 20405/27450 [02:51<30:30,  3.85it/s]"
     ]
    },
    {
     "name": "stdout",
     "output_type": "stream",
     "text": [
      "Could not download nb-477165\n"
     ]
    },
    {
     "name": "stderr",
     "output_type": "stream",
     "text": [
      "\r",
      " 74%|███████▍  | 20407/27450 [02:58<37:28,  3.13it/s]"
     ]
    },
    {
     "name": "stdout",
     "output_type": "stream",
     "text": [
      "Could not download nb-477167\n",
      "Could not download nb-477168\n"
     ]
    },
    {
     "name": "stderr",
     "output_type": "stream",
     "text": [
      " 74%|███████▍  | 20409/27450 [03:11<57:18,  2.05it/s]"
     ]
    },
    {
     "name": "stdout",
     "output_type": "stream",
     "text": [
      "Could not download nb-477169\n"
     ]
    },
    {
     "name": "stderr",
     "output_type": "stream",
     "text": [
      "\r",
      " 74%|███████▍  | 20410/27450 [03:18<1:10:53,  1.65it/s]"
     ]
    },
    {
     "name": "stdout",
     "output_type": "stream",
     "text": [
      "Could not download nb-477170\n",
      "Could not download nb-477171\n"
     ]
    },
    {
     "name": "stderr",
     "output_type": "stream",
     "text": [
      " 74%|███████▍  | 20412/27450 [03:31<1:47:02,  1.10it/s]"
     ]
    },
    {
     "name": "stdout",
     "output_type": "stream",
     "text": [
      "Could not download nb-477172\n"
     ]
    },
    {
     "name": "stderr",
     "output_type": "stream",
     "text": [
      "\r",
      " 74%|███████▍  | 20413/27450 [03:38<2:10:44,  1.11s/it]"
     ]
    },
    {
     "name": "stdout",
     "output_type": "stream",
     "text": [
      "Could not download nb-477173\n",
      "Could not download nb-477174\n"
     ]
    },
    {
     "name": "stderr",
     "output_type": "stream",
     "text": [
      " 74%|███████▍  | 20415/27450 [03:52<3:11:42,  1.64s/it]"
     ]
    },
    {
     "name": "stdout",
     "output_type": "stream",
     "text": [
      "Could not download nb-477175\n"
     ]
    },
    {
     "name": "stderr",
     "output_type": "stream",
     "text": [
      "\r",
      " 74%|███████▍  | 20416/27450 [03:59<3:48:58,  1.95s/it]"
     ]
    },
    {
     "name": "stdout",
     "output_type": "stream",
     "text": [
      "Could not download nb-477176\n",
      "Could not download nb-477177\n",
      "Could not download nb-477178\n"
     ]
    },
    {
     "name": "stderr",
     "output_type": "stream",
     "text": [
      " 74%|███████▍  | 20419/27450 [04:20<5:51:49,  3.00s/it]"
     ]
    },
    {
     "name": "stdout",
     "output_type": "stream",
     "text": [
      "Could not download nb-477179\n"
     ]
    },
    {
     "name": "stderr",
     "output_type": "stream",
     "text": [
      "\r",
      " 74%|███████▍  | 20420/27450 [04:27<6:30:32,  3.33s/it]"
     ]
    },
    {
     "name": "stdout",
     "output_type": "stream",
     "text": [
      "Could not download nb-477180\n"
     ]
    },
    {
     "name": "stderr",
     "output_type": "stream",
     "text": [
      " 75%|███████▌  | 20699/27450 [04:34<10:28, 10.74it/s]  "
     ]
    },
    {
     "name": "stdout",
     "output_type": "stream",
     "text": [
      "Could not download nb-477181\n"
     ]
    },
    {
     "name": "stderr",
     "output_type": "stream",
     "text": [
      " 80%|███████▉  | 21925/27450 [05:06<03:12, 28.77it/s]"
     ]
    },
    {
     "name": "stdout",
     "output_type": "stream",
     "text": [
      "Could not download nb-479323\n"
     ]
    },
    {
     "name": "stderr",
     "output_type": "stream",
     "text": [
      " 80%|████████  | 22091/27450 [05:19<04:08, 21.55it/s]"
     ]
    },
    {
     "name": "stdout",
     "output_type": "stream",
     "text": [
      "Could not download nb-479324\n"
     ]
    },
    {
     "name": "stderr",
     "output_type": "stream",
     "text": [
      " 87%|████████▋ | 23886/27450 [05:43<01:31, 38.98it/s] "
     ]
    },
    {
     "name": "stdout",
     "output_type": "stream",
     "text": [
      "Could not download nb-481966\n"
     ]
    },
    {
     "name": "stderr",
     "output_type": "stream",
     "text": [
      " 89%|████████▉ | 24436/27450 [06:08<01:25, 35.32it/s]"
     ]
    },
    {
     "name": "stdout",
     "output_type": "stream",
     "text": [
      "Could not download nb-802241\n"
     ]
    },
    {
     "name": "stderr",
     "output_type": "stream",
     "text": [
      " 90%|████████▉ | 24656/27450 [06:14<01:12, 38.35it/s]"
     ]
    },
    {
     "name": "stdout",
     "output_type": "stream",
     "text": [
      "Could not download nb-812808\n"
     ]
    },
    {
     "name": "stderr",
     "output_type": "stream",
     "text": [
      "\r",
      " 90%|█████████ | 24738/27450 [06:21<01:45, 25.61it/s]"
     ]
    },
    {
     "name": "stdout",
     "output_type": "stream",
     "text": [
      "Could not download nb-815037\n",
      "Could not download nb-815050\n",
      "Could not download nb-815054\n"
     ]
    },
    {
     "name": "stderr",
     "output_type": "stream",
     "text": [
      " 90%|█████████ | 24749/27450 [06:41<05:16,  8.55it/s]"
     ]
    },
    {
     "name": "stdout",
     "output_type": "stream",
     "text": [
      "Could not download nb-815062\n"
     ]
    },
    {
     "name": "stderr",
     "output_type": "stream",
     "text": [
      "\r",
      " 90%|█████████ | 24761/27450 [06:47<06:29,  6.90it/s]"
     ]
    },
    {
     "name": "stdout",
     "output_type": "stream",
     "text": [
      "Could not download nb-815093\n",
      "Could not download nb-815097\n"
     ]
    },
    {
     "name": "stderr",
     "output_type": "stream",
     "text": [
      " 90%|█████████ | 24766/27450 [07:02<10:55,  4.10it/s]"
     ]
    },
    {
     "name": "stdout",
     "output_type": "stream",
     "text": [
      "Could not download nb-815102\n"
     ]
    },
    {
     "name": "stderr",
     "output_type": "stream",
     "text": [
      "\r",
      " 90%|█████████ | 24774/27450 [07:08<12:54,  3.46it/s]"
     ]
    },
    {
     "name": "stdout",
     "output_type": "stream",
     "text": [
      "Could not download nb-815125\n"
     ]
    },
    {
     "name": "stderr",
     "output_type": "stream",
     "text": [
      " 91%|█████████ | 24988/27450 [07:15<03:13, 12.71it/s]"
     ]
    },
    {
     "name": "stdout",
     "output_type": "stream",
     "text": [
      "Could not download nb-815670\n"
     ]
    },
    {
     "name": "stderr",
     "output_type": "stream",
     "text": [
      " 93%|█████████▎| 25396/27450 [07:22<01:12, 28.28it/s]"
     ]
    },
    {
     "name": "stdout",
     "output_type": "stream",
     "text": [
      "Could not download nb-822350\n"
     ]
    },
    {
     "name": "stderr",
     "output_type": "stream",
     "text": [
      " 93%|█████████▎| 25631/27450 [07:28<00:51, 35.15it/s]"
     ]
    },
    {
     "name": "stdout",
     "output_type": "stream",
     "text": [
      "Could not download nb-824913\n"
     ]
    },
    {
     "name": "stderr",
     "output_type": "stream",
     "text": [
      "\r",
      " 94%|█████████▍| 25740/27450 [07:35<01:04, 26.70it/s]"
     ]
    },
    {
     "name": "stdout",
     "output_type": "stream",
     "text": [
      "Could not download nb-838092\n",
      "Could not download nb-838152\n",
      "Could not download nb-838155\n"
     ]
    },
    {
     "name": "stderr",
     "output_type": "stream",
     "text": [
      " 94%|█████████▍| 25757/27450 [07:55<02:57,  9.54it/s]"
     ]
    },
    {
     "name": "stdout",
     "output_type": "stream",
     "text": [
      "Could not download nb-838157\n"
     ]
    },
    {
     "name": "stderr",
     "output_type": "stream",
     "text": [
      "\r",
      " 94%|█████████▍| 25758/27450 [08:02<03:52,  7.28it/s]"
     ]
    },
    {
     "name": "stdout",
     "output_type": "stream",
     "text": [
      "Could not download nb-838160\n",
      "Could not download nb-838162\n",
      "Could not download nb-838164\n"
     ]
    },
    {
     "name": "stderr",
     "output_type": "stream",
     "text": [
      " 94%|█████████▍| 25761/27450 [08:22<07:40,  3.66it/s]"
     ]
    },
    {
     "name": "stdout",
     "output_type": "stream",
     "text": [
      "Could not download nb-838166\n"
     ]
    },
    {
     "name": "stderr",
     "output_type": "stream",
     "text": [
      "\r",
      " 94%|█████████▍| 25762/27450 [08:28<09:26,  2.98it/s]"
     ]
    },
    {
     "name": "stdout",
     "output_type": "stream",
     "text": [
      "Could not download nb-838168\n",
      "Could not download nb-838170\n"
     ]
    },
    {
     "name": "stderr",
     "output_type": "stream",
     "text": [
      " 94%|█████████▍| 25764/27450 [08:42<14:15,  1.97it/s]"
     ]
    },
    {
     "name": "stdout",
     "output_type": "stream",
     "text": [
      "Could not download nb-838172\n"
     ]
    },
    {
     "name": "stderr",
     "output_type": "stream",
     "text": [
      "\r",
      " 94%|█████████▍| 25765/27450 [08:48<17:32,  1.60it/s]"
     ]
    },
    {
     "name": "stdout",
     "output_type": "stream",
     "text": [
      "Could not download nb-838174\n",
      "Could not download nb-838176\n"
     ]
    },
    {
     "name": "stderr",
     "output_type": "stream",
     "text": [
      " 94%|█████████▍| 25767/27450 [09:02<26:16,  1.07it/s]"
     ]
    },
    {
     "name": "stdout",
     "output_type": "stream",
     "text": [
      "Could not download nb-838178\n"
     ]
    },
    {
     "name": "stderr",
     "output_type": "stream",
     "text": [
      "\r",
      " 94%|█████████▍| 25768/27450 [09:08<31:56,  1.14s/it]"
     ]
    },
    {
     "name": "stdout",
     "output_type": "stream",
     "text": [
      "Could not download nb-838180\n"
     ]
    },
    {
     "name": "stderr",
     "output_type": "stream",
     "text": [
      "\r",
      " 94%|█████████▍| 25783/27450 [09:15<23:18,  1.19it/s]"
     ]
    },
    {
     "name": "stdout",
     "output_type": "stream",
     "text": [
      "Could not download nb-838182\n"
     ]
    },
    {
     "name": "stderr",
     "output_type": "stream",
     "text": [
      "\r",
      " 94%|█████████▍| 25880/27450 [09:22<05:49,  4.49it/s]"
     ]
    },
    {
     "name": "stdout",
     "output_type": "stream",
     "text": [
      "Could not download nb-841831\n"
     ]
    },
    {
     "name": "stderr",
     "output_type": "stream",
     "text": [
      "\r",
      " 94%|█████████▍| 25888/27450 [09:28<07:09,  3.64it/s]"
     ]
    },
    {
     "name": "stdout",
     "output_type": "stream",
     "text": [
      "Could not download nb-841890\n"
     ]
    },
    {
     "name": "stderr",
     "output_type": "stream",
     "text": [
      "\r",
      " 95%|█████████▍| 25959/27450 [09:36<04:37,  5.38it/s]"
     ]
    },
    {
     "name": "stdout",
     "output_type": "stream",
     "text": [
      "Could not download nb-861242\n"
     ]
    },
    {
     "name": "stderr",
     "output_type": "stream",
     "text": [
      "\r",
      " 95%|█████████▍| 26035/27450 [09:42<03:21,  7.02it/s]"
     ]
    },
    {
     "name": "stdout",
     "output_type": "stream",
     "text": [
      "Could not download nb-870419\n"
     ]
    },
    {
     "name": "stderr",
     "output_type": "stream",
     "text": [
      " 95%|█████████▌| 26131/27450 [09:49<02:03, 10.69it/s]"
     ]
    },
    {
     "name": "stdout",
     "output_type": "stream",
     "text": [
      "Could not download nb-870422\n"
     ]
    },
    {
     "name": "stderr",
     "output_type": "stream",
     "text": [
      " 96%|█████████▋| 26464/27450 [09:57<00:45, 21.83it/s]"
     ]
    },
    {
     "name": "stdout",
     "output_type": "stream",
     "text": [
      "Could not download nb-912863\n"
     ]
    },
    {
     "name": "stderr",
     "output_type": "stream",
     "text": [
      " 97%|█████████▋| 26676/27450 [10:05<00:27, 28.60it/s]"
     ]
    },
    {
     "name": "stdout",
     "output_type": "stream",
     "text": [
      "Could not download nb-919765\n"
     ]
    },
    {
     "name": "stderr",
     "output_type": "stream",
     "text": [
      " 99%|█████████▉| 27225/27450 [10:11<00:04, 45.63it/s] "
     ]
    },
    {
     "name": "stdout",
     "output_type": "stream",
     "text": [
      "Could not download nb-960111\n"
     ]
    },
    {
     "name": "stderr",
     "output_type": "stream",
     "text": [
      "100%|██████████| 27450/27450 [10:49<00:00, 42.25it/s]\n"
     ]
    }
   ],
   "source": [
    "maxRetries = 5\n",
    "for row in tqdm(data):\n",
    "    filename = path.join(config['imageDirectory'], row['id'] + '.jpg')\n",
    "    if not path.exists(filename):\n",
    "        url = row['image'] + '/full/1024,/0/default.jpg'\n",
    "        r = requests.get(url, allow_redirects = True)\n",
    "        retries = 1\n",
    "        while not 'image' in r.headers['Content-Type'] and retries <= maxRetries:\n",
    "            # Try again if no image comes back\n",
    "            time.sleep(1)\n",
    "            r = requests.get(url, allow_redirects = True)\n",
    "            retries += 1\n",
    "        if retries >= maxRetries:\n",
    "            print(\"Could not download\", row['id'])\n",
    "        else:\n",
    "            with open(filename, 'wb') as f:\n",
    "                f.write(r.content)"
   ]
  },
  {
   "cell_type": "markdown",
   "metadata": {},
   "source": [
    "## Step 4: Apply model"
   ]
  },
  {
   "cell_type": "markdown",
   "metadata": {},
   "source": [
    "Apply the model. This step is based on the code provided in the DH Segment example at https://github.com/dhlab-epfl/dhSegment/blob/master/demo.py"
   ]
  },
  {
   "cell_type": "code",
   "execution_count": 16,
   "metadata": {},
   "outputs": [
    {
     "name": "stderr",
     "output_type": "stream",
     "text": [
      "/usr/local/lib/python3.6/dist-packages/tensorflow/python/framework/dtypes.py:526: FutureWarning: Passing (type, 1) or '1type' as a synonym of type is deprecated; in a future version of numpy, it will be understood as (type, (1,)) / '(1,)type'.\n",
      "  _np_qint8 = np.dtype([(\"qint8\", np.int8, 1)])\n",
      "/usr/local/lib/python3.6/dist-packages/tensorflow/python/framework/dtypes.py:527: FutureWarning: Passing (type, 1) or '1type' as a synonym of type is deprecated; in a future version of numpy, it will be understood as (type, (1,)) / '(1,)type'.\n",
      "  _np_quint8 = np.dtype([(\"quint8\", np.uint8, 1)])\n",
      "/usr/local/lib/python3.6/dist-packages/tensorflow/python/framework/dtypes.py:528: FutureWarning: Passing (type, 1) or '1type' as a synonym of type is deprecated; in a future version of numpy, it will be understood as (type, (1,)) / '(1,)type'.\n",
      "  _np_qint16 = np.dtype([(\"qint16\", np.int16, 1)])\n",
      "/usr/local/lib/python3.6/dist-packages/tensorflow/python/framework/dtypes.py:529: FutureWarning: Passing (type, 1) or '1type' as a synonym of type is deprecated; in a future version of numpy, it will be understood as (type, (1,)) / '(1,)type'.\n",
      "  _np_quint16 = np.dtype([(\"quint16\", np.uint16, 1)])\n",
      "/usr/local/lib/python3.6/dist-packages/tensorflow/python/framework/dtypes.py:530: FutureWarning: Passing (type, 1) or '1type' as a synonym of type is deprecated; in a future version of numpy, it will be understood as (type, (1,)) / '(1,)type'.\n",
      "  _np_qint32 = np.dtype([(\"qint32\", np.int32, 1)])\n",
      "/usr/local/lib/python3.6/dist-packages/tensorflow/python/framework/dtypes.py:535: FutureWarning: Passing (type, 1) or '1type' as a synonym of type is deprecated; in a future version of numpy, it will be understood as (type, (1,)) / '(1,)type'.\n",
      "  np_resource = np.dtype([(\"resource\", np.ubyte, 1)])\n"
     ]
    }
   ],
   "source": [
    "import os\n",
    "from glob import glob\n",
    "\n",
    "import cv2\n",
    "import numpy as np\n",
    "import tensorflow as tf\n",
    "from imageio import imread, imsave\n",
    "from tqdm import tqdm\n",
    "\n",
    "from dh_segment.io import PAGE\n",
    "from dh_segment.inference import LoadedModel\n",
    "from dh_segment.post_processing import boxes_detection, binarization"
   ]
  },
  {
   "cell_type": "code",
   "execution_count": 17,
   "metadata": {},
   "outputs": [],
   "source": [
    "def page_make_binary_mask(probs: np.ndarray, threshold: float=-1) -> np.ndarray:\n",
    "    \"\"\"\n",
    "    Computes the binary mask of the detected Page from the probabilities outputed by network\n",
    "    :param probs: array with values in range [0, 1]\n",
    "    :param threshold: threshold between [0 and 1], if negative Otsu's adaptive threshold will be used\n",
    "    :return: binary mask\n",
    "    \"\"\"\n",
    "\n",
    "    mask = binarization.thresholding(probs, threshold)\n",
    "    mask = binarization.cleaning_binary(mask, kernel_size=5)\n",
    "    return mask\n",
    "\n",
    "\n",
    "def format_quad_to_string(quad):\n",
    "    \"\"\"\n",
    "    Formats the corner points into a string.\n",
    "    :param quad: coordinates of the quadrilateral\n",
    "    :return:\n",
    "    \"\"\"\n",
    "    s = ''\n",
    "    for corner in quad:\n",
    "        s += '{},{},'.format(corner[0], corner[1])\n",
    "    return s[:-1]\n"
   ]
  },
  {
   "cell_type": "code",
   "execution_count": 18,
   "metadata": {},
   "outputs": [],
   "source": [
    "modelDir = '../pretrained_models/bso_model/'"
   ]
  },
  {
   "cell_type": "code",
   "execution_count": null,
   "metadata": {},
   "outputs": [
    {
     "name": "stdout",
     "output_type": "stream",
     "text": [
      "Loading ../pretrained_models/bso_model/\n",
      "INFO:tensorflow:Restoring parameters from ../pretrained_models/bso_model/variables/variables\n"
     ]
    },
    {
     "name": "stderr",
     "output_type": "stream",
     "text": [
      " 61%|██████    | 16780/27450 [03:28<03:37, 49.09it/s] "
     ]
    },
    {
     "name": "stdout",
     "output_type": "stream",
     "text": [
      "File does not exist: ../data/images/nb-1000691.jpg\n"
     ]
    },
    {
     "name": "stderr",
     "output_type": "stream",
     "text": [
      " 71%|███████   | 19360/27450 [03:54<02:35, 52.12it/s] "
     ]
    }
   ],
   "source": [
    "with tf.Session():\n",
    "    # Load model\n",
    "    m = LoadedModel(modelDir, predict_mode='filename')\n",
    "    for row in tqdm(data):\n",
    "        if not row['documentCoordinates'] or len(row['documentCoordinates']) == 0:\n",
    "            filename = path.join(config['imageDirectory'], row['id'] + '.jpg')\n",
    "            if not path.isfile(filename):\n",
    "                print(\"File does not exist:\", filename)\n",
    "            else:\n",
    "                # For each image, predict each pixel's label\n",
    "                prediction_outputs = m.predict(filename)\n",
    "                probs = prediction_outputs['probs'][0]\n",
    "                probs = probs[:, :, 2]  # Take only class '2' (class 0 is the background, class 1 is the document, class 2 is the image)\n",
    "                probs = probs / np.max(probs)  # Normalize to be in [0, 1]\n",
    "\n",
    "                # Binarize the predictions\n",
    "                page_bin = page_make_binary_mask(probs)\n",
    "\n",
    "                # Upscale to have full resolution image (cv2 uses (w,h) and not (h,w) for giving shapes)        \n",
    "                original_shape = prediction_outputs['original_shape']\n",
    "                original_size = tuple(original_shape[::-1])\n",
    "                original_size = (round(original_size[0] / 1024 * int(row['width'])), round(original_size[1] / 1024 * int(row['height'])))\n",
    "                bin_upscaled = cv2.resize(page_bin.astype(np.uint8, copy=False),\n",
    "                                          original_size, interpolation=cv2.INTER_NEAREST)\n",
    "\n",
    "                # Find quadrilateral enclosing the page\n",
    "                pred_page_coords = boxes_detection.find_boxes(bin_upscaled.astype(np.uint8, copy=False),\n",
    "                                                              mode='min_rectangle', min_area=0.2, n_max_boxes=1)\n",
    "\n",
    "                # Rescale coordinates\n",
    "                if pred_page_coords is not None:\n",
    "                    row['documentCoordinates'] = format_quad_to_string(pred_page_coords)\n",
    "\n",
    "                    # Store coordinates in data after every prediction\n",
    "                    writeData(data)"
   ]
  },
  {
   "cell_type": "markdown",
   "metadata": {},
   "source": [
    "## Step 5: Output as CIDOC-CRM RDF"
   ]
  },
  {
   "cell_type": "markdown",
   "metadata": {},
   "source": [
    "Output as a Trig file that can be displayed and edited in the Mirador component of ResearchSpace & Metaphacts"
   ]
  },
  {
   "cell_type": "code",
   "execution_count": 35,
   "metadata": {},
   "outputs": [],
   "source": [
    "namespaces = \"\"\"\n",
    "@prefix Platform: <http://www.metaphacts.com/ontologies/platform#> .\n",
    "@prefix User: <http://www.metaphacts.com/resource/user/> .\n",
    "@prefix xsd: <http://www.w3.org/2001/XMLSchema#> .\n",
    "@prefix crmdig: <http://www.ics.forth.gr/isl/CRMdig/> .\n",
    "@prefix rso: <http://www.researchspace.org/ontology/> .\n",
    "@prefix prov: <http://www.w3.org/ns/prov#> .\n",
    "@prefix rdf: <http://www.w3.org/1999/02/22-rdf-syntax-ns#> .\n",
    "@prefix ldp: <http://www.w3.org/ns/ldp#> .\n",
    "@prefix crm: <http://www.cidoc-crm.org/cidoc-crm/>.\n",
    "\"\"\"\n",
    "\n",
    "regionTemplate = Template('''<$uri/container/context> {\n",
    "  Platform:formContainer ldp:contains <$uri/container> .\n",
    "  \n",
    "  <$uri>\n",
    "    a crmdig:D35_Area, rso:EX_Digital_Image_Region;\n",
    "    crmdig:L49_is_primary_area_of <$iiifImage>;\n",
    "    rso:boundingBox \"xywh=$x,$y,$w,$h\";\n",
    "    rso:displayLabel \"image\";\n",
    "    rso:viewport \"xywh=0,0,0,0\";\n",
    "    rdf:value \"<svg xmlns='http://www.w3.org/2000/svg'><path xmlns=\\\\\"http://www.w3.org/2000/svg\\\\\" d=\\\\\"M${x0},${y0}l${halfW},0l0,0l${halfW},0l 0,${halfH}l 0,${halfH}l -${halfW},0l -${halfW},0l 0,-${halfH}z\\\\\" data-paper-data=\\\\\"{&quot;defaultStrokeValue&quot;:1,&quot;editStrokeValue&quot;:5,&quot;currentStrokeValue&quot;:1,&quot;rotation&quot;:0,&quot;deleteIcon&quot;:null,&quot;rotationIcon&quot;:null,&quot;group&quot;:null,&quot;editable&quot;:true,&quot;annotation&quot;:null}\\\\\" id=\\\\\"rectangle_e880ad36-1fef-4ce3-835d-716ba7db628a\\\\\" fill-opacity=\\\\\"0\\\\\" fill=\\\\\"#00bfff\\\\\" fill-rule=\\\\\"nonzero\\\\\" stroke=\\\\\"#00bfff\\\\\" stroke-width=\\\\\"4.04992\\\\\" stroke-linecap=\\\\\"butt\\\\\" stroke-linejoin=\\\\\"miter\\\\\" stroke-miterlimit=\\\\\"10\\\\\" stroke-dasharray=\\\\\"\\\\\" stroke-dashoffset=\\\\\"0\\\\\" font-family=\\\\\"none\\\\\" font-weight=\\\\\"none\\\\\" font-size=\\\\\"none\\\\\" text-anchor=\\\\\"none\\\\\" style=\\\\\"mix-blend-mode: normal\\\\\"/></svg>\" .\n",
    "  \n",
    "  <$uri/container>\n",
    "    a ldp:Resource, prov:Entity;\n",
    "    prov:generatedAtTime \"$dateTime\"^^xsd:dateTime;\n",
    "    prov:wasAttributedTo User:admin .\n",
    "}\n",
    "\n",
    "<https://platform.swissartresearch.net/documentRegions> {\n",
    "    <$uri> crm:P2_has_type <https://resource.swissartresearch.net/type/documentRegion> .\n",
    "}\n",
    "\n",
    "''')"
   ]
  },
  {
   "cell_type": "code",
   "execution_count": 36,
   "metadata": {},
   "outputs": [
    {
     "name": "stderr",
     "output_type": "stream",
     "text": [
      "100%|██████████| 27450/27450 [00:01<00:00, 24820.21it/s]\n"
     ]
    },
    {
     "name": "stdout",
     "output_type": "stream",
     "text": [
      "Could not detect coordinates in 39 images:\n",
      "zbz-990100839710205508\n",
      "zbz-990101416840205508\n",
      "zbz-990101521100205508\n",
      "zbz-990102101150205508\n",
      "zbz-990102101150205508\n",
      "zbz-990102782640205508\n",
      "zbz-990103614330205508\n",
      "zbz-990104876180205508\n",
      "zbz-990105616830205508\n",
      "zbz-990106138050205508\n",
      "zbz-990106138320205508\n",
      "zbz-990106141270205508\n",
      "zbz-990106262790205508\n",
      "zbz-990106263300205508\n",
      "zbz-990107379980205508\n",
      "zbz-990107401490205508\n",
      "zbz-990107405070205508\n",
      "zbz-990107405210205508\n",
      "zbz-990107405300205508\n",
      "zbz-990107454510205508\n",
      "zbz-990107778670205508\n",
      "zbz-990108007420205508\n",
      "zbz-990108007920205508\n",
      "zbz-990108008120205508\n",
      "zbz-990108014810205508\n",
      "zbz-990108015010205508\n",
      "zbz-990108015040205508\n",
      "zbz-990108015120205508\n",
      "zbz-990108015130205508\n",
      "zbz-990108978310205508\n",
      "zbz-990109329750205508\n",
      "zbz-990109597470205508\n",
      "zbz-990110251690205508\n",
      "zbz-990110251830205508\n",
      "zbz-990110251900205508\n",
      "zbz-990110252020205508\n",
      "zbz-990110252050205508\n",
      "zbz-990110607760205508\n",
      "zbz-990110608440205508\n"
     ]
    }
   ],
   "source": [
    "dateTime = datetime.now().strftime(\"%Y-%m-%dT%H:%M:%Sz\")\n",
    "\n",
    "output = namespaces\n",
    "\n",
    "missingDocumentCoordinates = []\n",
    "\n",
    "for row in tqdm(data):\n",
    "    if row['documentCoordinates'] is not None:\n",
    "        docCoords = row['documentCoordinates'].split(',')\n",
    "        if len(docCoords) < 8:\n",
    "            missingDocumentCoordinates.append(row)\n",
    "            continue\n",
    "\n",
    "        xCoords = [int(docCoords[0]), int(docCoords[2]), int(docCoords[4]), int(docCoords[6])]\n",
    "        yCoords = [int(docCoords[1]), int(docCoords[3]), int(docCoords[5]), int(docCoords[7])]\n",
    "        edges = {\n",
    "            \"topLeft\": (min(xCoords), min(yCoords)),\n",
    "            \"topRight\": (max(xCoords), min(yCoords)),\n",
    "            \"bottomRight\": (max(xCoords), max(yCoords)),\n",
    "            \"bottomLeft\": (min(xCoords), max(yCoords))\n",
    "        }\n",
    "        iiifImage = row['image']\n",
    "        identifier = str(uuid.uuid3(uuid.NAMESPACE_DNS, iiifImage))\n",
    "        uri = \"https://resource.swissartresearch.net/digitalobject/\" + identifier\n",
    "        x0 = edges['topLeft'][0]\n",
    "        y0 = edges['topLeft'][1]\n",
    "        x1 = edges['bottomRight'][0]\n",
    "        y1 = edges['bottomRight'][1]\n",
    "        x = x0\n",
    "        y = y0\n",
    "        w = x1 - x0\n",
    "        h = y1 - y0\n",
    "        output += regionTemplate.substitute(\n",
    "            uri=uri,\n",
    "            iiifImage=iiifImage,\n",
    "            x=int(x),\n",
    "            y=int(y),\n",
    "            w=int(w),\n",
    "            h=int(h),\n",
    "            x0=x0,\n",
    "            y0=y0,\n",
    "            halfW=float(w/2),\n",
    "            halfH=float(h/2),\n",
    "            dateTime=dateTime\n",
    "        )\n",
    "\n",
    "# Write summary of missing corodinates\n",
    "if len(missingDocumentCoordinates) > 0:\n",
    "    print(\"Could not detect coordinates in %d images:\" % len(missingDocumentCoordinates))\n",
    "    print('\\n'.join([d['id'] for d in missingDocumentCoordinates]))\n",
    "    \n",
    "filename = path.join(config['trigFile'])\n",
    "with open(filename, 'w') as f:\n",
    "    f.write(output)"
   ]
  },
  {
   "cell_type": "code",
   "execution_count": null,
   "metadata": {},
   "outputs": [],
   "source": []
  }
 ],
 "metadata": {
  "kernelspec": {
   "display_name": "Python 3",
   "language": "python",
   "name": "python3"
  },
  "language_info": {
   "codemirror_mode": {
    "name": "ipython",
    "version": 3
   },
   "file_extension": ".py",
   "mimetype": "text/x-python",
   "name": "python",
   "nbconvert_exporter": "python",
   "pygments_lexer": "ipython3",
   "version": "3.6.9"
  }
 },
 "nbformat": 4,
 "nbformat_minor": 2
}
